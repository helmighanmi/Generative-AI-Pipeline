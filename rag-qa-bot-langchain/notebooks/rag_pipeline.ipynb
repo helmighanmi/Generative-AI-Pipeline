{
  "cells": [
    {
      "cell_type": "markdown",
      "metadata": {},
      "source": [
        "# RAG + QA Bot Pipeline\n",
        "This notebook demonstrates Tasks 1\u20136 with LangChain, Chroma, Hugging Face embeddings, and Falcon LLM."
      ]
    },
    {
      "cell_type": "code",
      "execution_count": null,
      "metadata": {},
      "outputs": [],
      "source": [
        "from langchain.document_loaders import PyPDFLoader\n",
        "from langchain.text_splitter import RecursiveCharacterTextSplitter\n",
        "from langchain.embeddings import HuggingFaceEmbeddings\n",
        "from langchain.vectorstores import Chroma\n",
        "from langchain.llms import HuggingFaceHub\n",
        "from langchain.chains import RetrievalQA\n\n",
        "# Task 1: Load PDF\n",
        "pdf_path = 'heat_bath_paper.pdf'\n",
        "loader = PyPDFLoader(pdf_path)\n",
        "pages = loader.load()\n",
        "print(f'Pages loaded: {len(pages)}')\n\n",
        "# Task 2: Split text\n",
        "splitter = RecursiveCharacterTextSplitter(chunk_size=1000, chunk_overlap=200)\n",
        "docs = splitter.split_documents(pages)\n",
        "print(f'Number of chunks: {len(docs)}')\n\n",
        "# Task 3: Embeddings\n",
        "embedding = HuggingFaceEmbeddings(model_name='sentence-transformers/all-MiniLM-L6-v2')\n\n",
        "# Task 4: Vector DB\n",
        "chroma_db = Chroma.from_documents(docs, embedding)\n",
        "retriever = chroma_db.as_retriever(search_kwargs={'k': 3})\n\n",
        "# Task 6: QA Bot\n",
        "llm = HuggingFaceHub(repo_id='tiiuae/falcon-7b-instruct', model_kwargs={'temperature': 0.5, 'max_new_tokens': 256})\n",
        "qa_bot = RetrievalQA.from_chain_type(llm=llm, retriever=retriever)\n\n",
        "query = 'What this paper is talking about?'\n",
        "result = qa_bot({'query': query})\n",
        "print(result['result'])"
      ]
    }
  ],
  "metadata": {
    "kernelspec": {
      "display_name": "Python 3",
      "language": "python",
      "name": "python3"
    },
    "language_info": {
      "name": "python",
      "version": "3.9"
    }
  },
  "nbformat": 4,
  "nbformat_minor": 5
}