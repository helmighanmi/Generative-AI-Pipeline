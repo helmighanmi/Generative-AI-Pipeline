{
  "cells": [
    {
      "cell_type": "markdown",
      "metadata": {},
      "source": [
        "# \ud83e\udde0 QA Bot GUI with LangChain + Hugging Face\n\n",
        "Upload a PDF and ask a question. Uses Chroma + sentence-transformers + Falcon LLM."
      ]
    },
    {
      "cell_type": "code",
      "execution_count": null,
      "metadata": {},
      "outputs": [],
      "source": [
        "from langchain.document_loaders import PyPDFLoader\n",
        "from langchain.text_splitter import RecursiveCharacterTextSplitter\n",
        "from langchain.embeddings import HuggingFaceEmbeddings\n",
        "from langchain.vectorstores import Chroma\n",
        "from langchain.llms import HuggingFaceHub\n",
        "from langchain.chains import RetrievalQA\n",
        "import gradio as gr\n\n",
        "def build_qa_bot(pdf_path:str):\n",
        "    loader = PyPDFLoader(pdf_path)\n",
        "    pages = loader.load()\n",
        "    splitter = RecursiveCharacterTextSplitter(chunk_size=1000, chunk_overlap=200)\n",
        "    docs = splitter.split_documents(pages)\n",
        "    embedding = HuggingFaceEmbeddings(model_name='sentence-transformers/all-MiniLM-L6-v2')\n",
        "    chroma_db = Chroma.from_documents(docs, embedding)\n",
        "    retriever = chroma_db.as_retriever(search_kwargs={'k': 3})\n",
        "    llm = HuggingFaceHub(repo_id='tiiuae/falcon-7b-instruct', model_kwargs={'temperature': 0.5, 'max_new_tokens': 256})\n",
        "    return RetrievalQA.from_chain_type(llm=llm, retriever=retriever)\n\n",
        "def answer_question(pdf_file_path, query):\n",
        "    qa_bot = build_qa_bot(pdf_file_path)\n",
        "    result = qa_bot({'query': query})\n",
        "    return result['result']\n\n",
        "demo = gr.Interface(\n",
        "    fn=answer_question,\n",
        "    inputs=[\n",
        "        gr.File(type='filepath', label='Upload a PDF'),\n",
        "        gr.Textbox(lines=2, placeholder='Ask a question', label='Query')\n",
        "    ],\n",
        "    outputs='text',\n",
        "    title='QA Bot with LangChain + Hugging Face LLM'\n",
        ")\n",
        "demo.launch(share=True)\n"
      ]
    }
  ],
  "metadata": {
    "kernelspec": {
      "display_name": "Python 3",
      "language": "python",
      "name": "python3"
    },
    "language_info": {
      "name": "python",
      "version": "3.9"
    }
  },
  "nbformat": 4,
  "nbformat_minor": 5
}